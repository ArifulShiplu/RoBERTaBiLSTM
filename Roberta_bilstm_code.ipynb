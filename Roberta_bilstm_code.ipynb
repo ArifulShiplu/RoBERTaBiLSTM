{
  "nbformat": 4,
  "nbformat_minor": 0,
  "metadata": {
    "colab": {
      "provenance": []
    },
    "kernelspec": {
      "name": "python3",
      "display_name": "Python 3"
    },
    "language_info": {
      "name": "python"
    }
  },
  "cells": [
    {
      "cell_type": "code",
      "execution_count": null,
      "metadata": {
        "id": "eI8-0ofz70P-"
      },
      "outputs": [],
      "source": []
    },
    {
      "cell_type": "code",
      "source": [
        "! pip install -U accelerate\n",
        "! pip install -U transformers"
      ],
      "metadata": {
        "id": "PWzjA2GOCqk0"
      },
      "execution_count": null,
      "outputs": []
    },
    {
      "cell_type": "code",
      "execution_count": null,
      "metadata": {
        "id": "t_U-J0MRB7ra"
      },
      "outputs": [],
      "source": [
        "!pip install transformers datasets"
      ]
    },
    {
      "cell_type": "code",
      "source": [
        "import torch, os\n",
        "import pandas as pd\n",
        "from transformers import pipeline, BertForSequenceClassification, BertTokenizerFast\n",
        "from torch.utils.data import Dataset\n",
        "from torch import cuda\n",
        "device = 'cuda' if cuda.is_available() else 'cpu'\n",
        "device"
      ],
      "metadata": {
        "id": "aQiM_VKrB8im"
      },
      "execution_count": null,
      "outputs": []
    },
    {
      "cell_type": "code",
      "source": [
        "path=\"/content/drive/MyDrive/Dataset/tweets.csv\"\n",
        "#df_org= pd.read_csv(\"Sentiment Analysis Dataset.csv\", encoding='ISO-8859-1')\n",
        "df_org=pd.read_csv(path)\n",
        "#df_org = df_org.sample(frac=1.0, random_state=42)\n",
        "\n",
        "df_org.head()"
      ],
      "metadata": {
        "id": "NAGAAhXCB8f3"
      },
      "execution_count": null,
      "outputs": []
    },
    {
      "cell_type": "code",
      "source": [
        "labels = df_org['sentiment'].unique().tolist()\n",
        "labels"
      ],
      "metadata": {
        "id": "TvcNpxlnB8dO"
      },
      "execution_count": null,
      "outputs": []
    },
    {
      "cell_type": "code",
      "source": [
        "NUM_LABELS= len(labels)\n",
        "\n",
        "id2label={id:label for id,label in enumerate(labels)}\n",
        "\n",
        "label2id={label:id for id,label in enumerate(labels)}\n",
        "\n",
        "label2id"
      ],
      "metadata": {
        "id": "ocdQZD1lB8a2"
      },
      "execution_count": null,
      "outputs": []
    },
    {
      "cell_type": "code",
      "source": [
        "df_org[\"labels\"]=df_org.sentiment.map(lambda x: label2id[x.strip()])\n",
        "df_org.head()\n"
      ],
      "metadata": {
        "id": "K-7C4hRDB8Y2"
      },
      "execution_count": null,
      "outputs": []
    },
    {
      "cell_type": "code",
      "source": [
        "df_org.sentiment.value_counts().plot(kind='pie', figsize=(5,5))"
      ],
      "metadata": {
        "id": "iP2yXYisB8Wf"
      },
      "execution_count": null,
      "outputs": []
    },
    {
      "cell_type": "code",
      "source": [
        "from transformers import AutoModel, AutoTokenizer, DistilBertTokenizer, DistilBertModel, AutoModelForSequenceClassification\n",
        "import torch.nn as nn\n",
        "from transformers.modeling_outputs import TokenClassifierOutput\n",
        "fchidden = 256\n",
        "hiddendim_lstm = 256\n",
        "embeddim = 768\n",
        "numlayers = 5\n",
        "checkpoint='roberta-base'\n",
        "\n",
        "class MyTaskSpecificCustomModel(nn.Module):\n",
        "    \"\"\"\n",
        "    A task-specific custom transformer model. This model loads a pre-trained transformer model and adds a new dropout\n",
        "    and linear layer at the end for fine-tuning and prediction on specific tasks.\n",
        "    \"\"\"\n",
        "    def __init__(self, checkpoint, num_labels ):\n",
        "        \"\"\"\n",
        "        Args:\n",
        "            checkpoint (str): The name of the pre-trained model or path to the model weights.\n",
        "            num_labels (int): The number of output labels in the final classification layer.\n",
        "        \"\"\"\n",
        "        super(MyTaskSpecificCustomModel, self).__init__()\n",
        "        self.num_labels = num_labels\n",
        "\n",
        "        self.model = model = AutoModel.from_pretrained(checkpoint, config = AutoConfig.from_pretrained(checkpoint,\n",
        "                                                                                                       output_attention = True,\n",
        "                                                                                                       output_hidden_state = True ) )\n",
        "        # New Layer\n",
        "        self.dropout = nn.Dropout(0.1)\n",
        "        #self.lstm=nn.LSTM(768,hiddendim_lstm,batch_first=True)\n",
        "        self.classifier = nn.Linear(768, self.num_labels )\n",
        "\n",
        "    def forward(self, input_ids = None, attention_mask=None, labels = None ):\n",
        "        \"\"\"\n",
        "        Forward pass for the model.\n",
        "\n",
        "        Args:\n",
        "            input_ids (torch.Tensor, optional): Tensor of input IDs. Defaults to None.\n",
        "            attention_mask (torch.Tensor, optional): Tensor for attention masks. Defaults to None.\n",
        "            labels (torch.Tensor, optional): Tensor for labels. Defaults to None.\n",
        "\n",
        "        Returns:\n",
        "            TokenClassifierOutput: A named tuple with the following fields:\n",
        "            - loss (torch.FloatTensor of shape (1,), optional, returned when label_ids is provided) – Classification loss.\n",
        "            - logits (torch.FloatTensor of shape (batch_size, num_labels)) – Classification scores before SoftMax.\n",
        "            - hidden_states (tuple(torch.FloatTensor), optional, returned when output_hidden_states=True is passed or when config.output_hidden_states=True) – Tuple of torch.FloatTensor (one for the output of the embeddings + one for the output of each layer) of shape (batch_size, sequence_length, hidden_size).\n",
        "            - attentions (tuple(torch.FloatTensor), optional, returned when output_attentions=True is passed or when config.output_attentions=True) – Tuple of torch.FloatTensor (one for each layer) of shape (batch_size, num_heads, sequence_length, sequence_length).\n",
        "        \"\"\"\n",
        "        outputs = self.model(input_ids = input_ids, attention_mask = attention_mask  )\n",
        "\n",
        "        last_hidden_state = outputs[0]\n",
        "\n",
        "        sequence_outputs = self.dropout(last_hidden_state)\n",
        "\n",
        "        logits = self.classifier(sequence_outputs[:, 0, : ].view(-1, 768 ))\n",
        "\n",
        "        loss = None\n",
        "        loss = None\n",
        "        if labels is not None:\n",
        "            loss_func = nn.CrossEntropyLoss()\n",
        "            loss = loss_func(logits.view(-1, self.num_labels), labels.view(-1))\n",
        "\n",
        "            return TokenClassifierOutput(loss=loss, logits=logits, hidden_states=outputs.hidden_states, attentions=outputs.attentions)\n",
        "\n",
        "\n",
        "class Bert_LSTM(nn.Module):\n",
        "    def __init__(self, checkpoint, num_labels):\n",
        "        super(Bert_LSTM, self).__init__()\n",
        "        self.numclasses = num_labels\n",
        "        self.embeddim = embeddim\n",
        "        self.numlayers = numlayers\n",
        "        self.hiddendim_lstm = hiddendim_lstm\n",
        "\n",
        "        self.model= model = BertModel.from_pretrained(checkpoint, output_hidden_states=True, output_attentions=False)\n",
        "        print(\"BERT Model Loaded\")\n",
        "\n",
        "        #self.dropout = nn.Dropout(0.1)\n",
        "        self.lstm = nn.LSTM(self.embeddim, self.hiddendim_lstm, batch_first=True, bidirectional=True) # noqa\n",
        "        #self.dropout = nn.Dropout(0.1)\n",
        "        self.classifier = nn.Linear(self.embeddim, self.numclasses)\n",
        "        #self.classifier1 = nn.Linear(256, self.numclasses)\n",
        "\n",
        "    #def forward(self, inp_ids, att_mask, token_ids):\n",
        "    def forward(self, input_ids = None, attention_mask=None, labels = None ):\n",
        "\n",
        "        outputs = self.model(input_ids = input_ids, attention_mask = attention_mask)\n",
        "        sequence_outputs=outputs[0]\n",
        "\n",
        "        #sequence_outputs = self.dropout(sequence_outputs)\n",
        "        sequence_outputs = self.lstm(sequence_outputs)\n",
        "        #logits = self.classifier(sequence_outputs[:, 0, : ].view(-1, 768 ))\n",
        "        logits = self.classifier(sequence_outputs[:, -1])\n",
        "\n",
        "\n",
        "        loss = None\n",
        "        loss = None\n",
        "        if labels is not None:\n",
        "            loss_func = nn.CrossEntropyLoss()\n",
        "            loss = loss_func(logits.view(-1, self.numclasses), labels.view(-1))\n",
        "\n",
        "            return TokenClassifierOutput(loss=loss, logits=logits, hidden_states=outputs.hidden_states, attentions=outputs.attentions)\n",
        "\n",
        "\n",
        "class BertClassifier(nn.Module):\n",
        " \"\"\"Bert Model for Classification Tasks.\"\"\"\n",
        " #def __init__(self, checkpoint, num_labels, freeze_bert=False):\n",
        " def __init__(self, checkpoint, num_labels):\n",
        "  super(BertClassifier, self).__init__()\n",
        "  self.numclasses = num_labels\n",
        "  self.embeddim = embeddim\n",
        "  self.numlayers = numlayers\n",
        "  self.hiddendim_lstm = hiddendim_lstm\n",
        "  # Specify hidden size of BERT, hidden size of our classifier, and number of labels\n",
        "  #D_in, H, D_out = 768, 50, 2\n",
        "  # Instantiate BERT model\n",
        "  self.model= model = AutoModel.from_pretrained(checkpoint)\n",
        "  #self.model= model = RobertaForSequenceClassification.from_pretrained(checkpoint)\n",
        "\n",
        "  #self.dropout = nn.Dropout(0.1)\n",
        "  #self.activation=nn.ReLU()\n",
        "  self.lstm = nn.LSTM(self.embeddim, self.hiddendim_lstm, batch_first=True, bidirectional=True)\n",
        "  #self.dropout1 = nn.Dropout(0.1)\n",
        "  #self.linear = nn.Linear(self.hiddendim_lstm*2 , self.numclasses)\n",
        "  self.linear = nn.Linear(self.hiddendim_lstm*2, self.numclasses)\n",
        "  self.softmax = nn.LogSoftmax(dim=1)\n",
        "\n",
        "  # Freeze the BERT model\n",
        "  #if freeze_bert:\n",
        "   #for param in self.model.parameters():\n",
        "    #param.requires_grad = False\n",
        "\n",
        " def forward(self, input_ids = None, attention_mask=None, labels = None ):\n",
        "  # Feed input to BERT\n",
        "  outputs = self.model(input_ids=input_ids,attention_mask=attention_mask)\n",
        "\n",
        "  sequence_output = outputs[0]\n",
        "  #print(\"sequence_output size\", sequence_output.size())\n",
        "\n",
        "  #sequence_output = self.dropout(sequence_output)\n",
        "  #sequence_output=self.activation(sequence_output)\n",
        "  sequence_output, _ = self.lstm(sequence_output)\n",
        "\n",
        "  #sequence_output = self.dropout1(sequence_output)\n",
        "\n",
        "  #print(\"lstm size\", sequence_output.size())\n",
        "\n",
        "  #sequence_output = self.dropout1(sequence_output)\n",
        "\n",
        "  logits = self.linear(sequence_output[:, -1])\n",
        "  logits = self.softmax(logits)\n",
        "\n",
        "  loss = None\n",
        "  loss = None\n",
        "  if labels is not None:\n",
        "    loss_func = nn.CrossEntropyLoss()\n",
        "    loss = loss_func(logits.view(-1, self.numclasses), labels.view(-1))\n",
        "\n",
        "    return TokenClassifierOutput(loss=loss, logits=logits, hidden_states=outputs.hidden_states, attentions=outputs.attentions)\n",
        "\n",
        "\n",
        "\n",
        "\n"
      ],
      "metadata": {
        "id": "cO0kSO54CPJV"
      },
      "execution_count": null,
      "outputs": []
    },
    {
      "cell_type": "code",
      "source": [
        "tokenizer = AutoTokenizer.from_pretrained(checkpoint, max_length=512)\n",
        "model=BertClassifier(checkpoint,NUM_LABELS)\n",
        "\n",
        "model.to(device)"
      ],
      "metadata": {
        "id": "lkrEA3pQ8Ow-"
      },
      "execution_count": null,
      "outputs": []
    },
    {
      "cell_type": "code",
      "source": [],
      "metadata": {
        "id": "YaxSbV647EJ4"
      },
      "execution_count": null,
      "outputs": []
    },
    {
      "cell_type": "code",
      "source": [
        "SIZE= df_org.shape[0]\n",
        "\n",
        "train_texts= list(df_org.review[:(9*SIZE)//10])\n",
        "\n",
        "val_texts=   list(df_org.review[(9*SIZE)//10:(95*SIZE)//100 ])\n",
        "\n",
        "test_texts=  list(df_org.review[(95*SIZE)//100:])\n",
        "\n",
        "train_labels= list(df_org.labels[:(9*SIZE)//10])\n",
        "\n",
        "val_labels=   list(df_org.labels[(9*SIZE)//10:(95*SIZE)//100])\n",
        "\n",
        "test_labels=  list(df_org.labels[(95*SIZE)//100:])\n",
        "\n",
        "len(train_texts), len(val_texts), len(test_texts)"
      ],
      "metadata": {
        "id": "YaqtGCvNCPGV"
      },
      "execution_count": null,
      "outputs": []
    },
    {
      "cell_type": "code",
      "source": [
        "train_encodings = tokenizer(train_texts, truncation=True, padding=True)\n",
        "val_encodings  = tokenizer(val_texts, truncation=True, padding=True)\n",
        "test_encodings = tokenizer(test_texts, truncation=True, padding=True)"
      ],
      "metadata": {
        "id": "qxYjuIlwCPD1"
      },
      "execution_count": null,
      "outputs": []
    },
    {
      "cell_type": "code",
      "source": [
        "class DataLoader(Dataset):\n",
        "    \"\"\"\n",
        "    Custom Dataset class for handling tokenized text data and corresponding labels.\n",
        "    Inherits from torch.utils.data.Dataset.\n",
        "    \"\"\"\n",
        "    def __init__(self, encodings, labels):\n",
        "        \"\"\"\n",
        "        Initializes the DataLoader class with encodings and labels.\n",
        "\n",
        "        Args:\n",
        "            encodings (dict): A dictionary containing tokenized input text data\n",
        "                              (e.g., 'input_ids', 'token_type_ids', 'attention_mask').\n",
        "            labels (list): A list of integer labels for the input text data.\n",
        "        \"\"\"\n",
        "        self.encodings = encodings\n",
        "        self.labels = labels\n",
        "\n",
        "    def __getitem__(self, idx):\n",
        "        \"\"\"\n",
        "        Returns a dictionary containing tokenized data and the corresponding label for a given index.\n",
        "\n",
        "        Args:\n",
        "            idx (int): The index of the data item to retrieve.\n",
        "\n",
        "        Returns:\n",
        "            item (dict): A dictionary containing the tokenized data and the corresponding label.\n",
        "        \"\"\"\n",
        "        # Retrieve tokenized data for the given index\n",
        "        item = {key: torch.tensor(val[idx]) for key, val in self.encodings.items()}\n",
        "        # Add the label for the given index to the item dictionary\n",
        "        item['labels'] = torch.tensor(self.labels[idx])\n",
        "        return item\n",
        "\n",
        "    def __len__(self):\n",
        "        \"\"\"\n",
        "        Returns the number of data items in the dataset.\n",
        "\n",
        "        Returns:\n",
        "            (int): The number of data items in the dataset.\n",
        "        \"\"\"\n",
        "        return len(self.labels)"
      ],
      "metadata": {
        "id": "YP1DSjL7CPBW"
      },
      "execution_count": null,
      "outputs": []
    },
    {
      "cell_type": "code",
      "source": [
        "print(train_labels)"
      ],
      "metadata": {
        "id": "jfEJ4ua4B8Tu"
      },
      "execution_count": null,
      "outputs": []
    },
    {
      "cell_type": "code",
      "source": [
        "train_dataloader = DataLoader(train_encodings, train_labels)\n",
        "\n",
        "val_dataloader = DataLoader(val_encodings, val_labels)\n",
        "\n",
        "test_dataset = DataLoader(test_encodings, test_labels)"
      ],
      "metadata": {
        "id": "3UdOC40ACZf8"
      },
      "execution_count": null,
      "outputs": []
    },
    {
      "cell_type": "code",
      "source": [
        "from transformers import TrainingArguments, Trainer"
      ],
      "metadata": {
        "id": "-qyOl3FQCZdc"
      },
      "execution_count": null,
      "outputs": []
    },
    {
      "cell_type": "code",
      "source": [
        "from sklearn.metrics import accuracy_score, precision_recall_fscore_support\n",
        "\n",
        "def compute_metrics(pred):\n",
        "    \"\"\"\n",
        "    Computes accuracy, F1, precision, and recall for a given set of predictions.\n",
        "\n",
        "    Args:\n",
        "        pred (obj): An object containing label_ids and predictions attributes.\n",
        "            - label_ids (array-like): A 1D array of true class labels.\n",
        "            - predictions (array-like): A 2D array where each row represents\n",
        "              an observation, and each column represents the probability of\n",
        "              that observation belonging to a certain class.\n",
        "\n",
        "    Returns:\n",
        "        dict: A dictionary containing the following metrics:\n",
        "            - Accuracy (float): The proportion of correctly classified instances.\n",
        "            - F1 (float): The macro F1 score, which is the harmonic mean of precision\n",
        "              and recall. Macro averaging calculates the metric independently for\n",
        "              each class and then takes the average.\n",
        "            - Precision (float): The macro precision, which is the number of true\n",
        "              positives divided by the sum of true positives and false positives.\n",
        "            - Recall (float): The macro recall, which is the number of true positives\n",
        "              divided by the sum of true positives and false negatives.\n",
        "    \"\"\"\n",
        "    # Extract true labels from the input object\n",
        "    labels = pred.label_ids\n",
        "\n",
        "    # Obtain predicted class labels by finding the column index with the maximum probability\n",
        "    preds = pred.predictions.argmax(-1)\n",
        "\n",
        "    # Compute macro precision, recall, and F1 score using sklearn's precision_recall_fscore_support function\n",
        "    precision, recall, f1, _ = precision_recall_fscore_support(labels, preds, average='macro')\n",
        "\n",
        "    # Calculate the accuracy score using sklearn's accuracy_score function\n",
        "    acc = accuracy_score(labels, preds)\n",
        "\n",
        "    # Return the computed metrics as a dictionary\n",
        "    return {\n",
        "        'Accuracy': acc,\n",
        "        'F1': f1,\n",
        "        'Precision': precision,\n",
        "        'Recall': recall\n",
        "    }\n"
      ],
      "metadata": {
        "id": "4BuebvR2CZa9"
      },
      "execution_count": null,
      "outputs": []
    },
    {
      "cell_type": "code",
      "source": [
        "training_args = TrainingArguments(\n",
        "    # The output directory where the model predictions and checkpoints will be written\n",
        "    output_dir='./SentimentAnaTwitter',\n",
        "    do_train=True,\n",
        "    do_eval=True,\n",
        "    #  The number of epochs, defaults to 3.0\n",
        "    num_train_epochs=5,\n",
        "    per_device_train_batch_size=16,\n",
        "    per_device_eval_batch_size=32,\n",
        "    # Number of steps used for a linear warmup\n",
        "    warmup_steps=100,\n",
        "    weight_decay=0.01,\n",
        "    learning_rate=1e-5,\n",
        "    logging_strategy='steps',\n",
        "   # TensorBoard log directory\n",
        "    logging_dir='./multi-class-logs',\n",
        "    logging_steps=50,\n",
        "    evaluation_strategy=\"epoch\",\n",
        "    eval_steps=50,\n",
        "    save_strategy=\"epoch\",\n",
        "    fp16=True,\n",
        "    load_best_model_at_end=True\n",
        ")"
      ],
      "metadata": {
        "id": "SH7dU1HVCZYV"
      },
      "execution_count": null,
      "outputs": []
    },
    {
      "cell_type": "code",
      "source": [
        "#with training_args.strategy.scope():\n",
        "# model = TFDistilBertForSequenceClassification.from_pretrained(\"bert-base-cased\")\n",
        "\n",
        "trainer = Trainer(\n",
        "    # the pre-trained model that will be fine-tuned\n",
        "    model=model,\n",
        "     # training arguments that we defined above\n",
        "    args=training_args,\n",
        "    train_dataset=train_dataloader,\n",
        "    eval_dataset=val_dataloader,\n",
        "    compute_metrics= compute_metrics\n",
        ")\n"
      ],
      "metadata": {
        "id": "CkSgdJ8mCZRW"
      },
      "execution_count": null,
      "outputs": []
    },
    {
      "cell_type": "code",
      "source": [
        "trainer.train()"
      ],
      "metadata": {
        "id": "krsHSLI7CZOs"
      },
      "execution_count": null,
      "outputs": []
    },
    {
      "cell_type": "code",
      "source": [
        "q=[trainer.evaluate(eval_dataset=df_org) for df_org in [train_dataloader, val_dataloader, test_dataset]]\n",
        "\n",
        "pd.DataFrame(q, index=[\"train\",\"val\",\"test\"]).iloc[:,:5]"
      ],
      "metadata": {
        "id": "fxFKq-JbCZKU"
      },
      "execution_count": null,
      "outputs": []
    }
  ]
}